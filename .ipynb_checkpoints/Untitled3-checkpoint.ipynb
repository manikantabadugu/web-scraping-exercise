{
 "cells": [
  {
   "cell_type": "code",
   "execution_count": 7,
   "id": "ee697061",
   "metadata": {},
   "outputs": [
    {
     "name": "stdout",
     "output_type": "stream",
     "text": [
      "Day: Today  The temperatures will be: 60 / 51\n",
      "Day: Fri 04  The temperatures will be: 59 / 50\n",
      "Day: Sat 05  The temperatures will be: 64 / 49\n",
      "Day: Sun 06  The temperatures will be: 63 / 49\n",
      "Day: Mon 07  The temperatures will be: 59 / 49\n",
      "Day: Tue 08  The temperatures will be: 59 / 47\n",
      "Day: Wed 09  The temperatures will be: 60 / 48\n",
      "Day: Thu 10  The temperatures will be: 61 / 49\n",
      "Day: Fri 11  The temperatures will be: 64 / 50\n",
      "Day: Sat 12  The temperatures will be: 64 / 51\n",
      "Day: Sun 13  The temperatures will be: 65 / 50\n",
      "Day: Mon 14  The temperatures will be: 67 / 50\n",
      "Day: Tue 15  The temperatures will be: 67 / 51\n",
      "Day: Wed 16  The temperatures will be: 67 / 51\n",
      "Day: Thu 17  The temperatures will be: 67 / 50\n"
     ]
    }
   ],
   "source": [
    "import requests\n",
    "from bs4 import BeautifulSoup\n",
    "import pandas as pd\n",
    "page = requests.get(\"https://weather.com/weather/tenday/l/San+Francisco+CA?canonicalCityId=dfdaba8cbe3a4d12a8796e1f7b1ccc7174b4b0a2d5ddb1c8566ae9f154fa638c\")\n",
    "\n",
    "soup = BeautifulSoup(page.content, \"html.parser\")\n",
    "\n",
    "\n",
    "temperatures = soup.find_all('span', class_= \"DailyContent--temp--_8DL5\")\n",
    "\n",
    "temperatures_text = []\n",
    "for t in temperatures:\n",
    "    temperatures_text.append(t.text)\n",
    "\n",
    "\n",
    "names = soup.find_all('h2', class_= \"DetailsSummary--daypartName--1Mebr\")\n",
    "\n",
    "names_text = []\n",
    "for n in names:\n",
    "    names_text.append(n.text)\n",
    "\n",
    "\n",
    "day_template = \"detailIndex\"\n",
    "\n",
    "df = pd.DataFrame({},columns = ['day','Temp_u','temp_l'])\n",
    "\n",
    "for i in range(15):\n",
    "     \n",
    "    day = soup.find('div', id=day_template+str(i) )\n",
    "\n",
    "    name = day.find('h2', class_= \"DetailsSummary--daypartName--1Mebr\").text\n",
    "\n",
    "    temp_u = day.find('span', class_ = \"DetailsSummary--highTempValue--3x6cL\").text[:2]\n",
    "    temp_l = temp = day.find('span', class_ = \"DetailsSummary--lowTempValue--1DlJK\").text[:2]\n",
    "    print(\"Day:\", name, \" The temperatures will be:\", temp_u ,\"/\",temp_l )"
   ]
  },
  {
   "cell_type": "code",
   "execution_count": null,
   "id": "01319d66",
   "metadata": {},
   "outputs": [],
   "source": []
  }
 ],
 "metadata": {
  "kernelspec": {
   "display_name": "Python 3",
   "language": "python",
   "name": "python3"
  },
  "language_info": {
   "codemirror_mode": {
    "name": "ipython",
    "version": 3
   },
   "file_extension": ".py",
   "mimetype": "text/x-python",
   "name": "python",
   "nbconvert_exporter": "python",
   "pygments_lexer": "ipython3",
   "version": "3.8.8"
  }
 },
 "nbformat": 4,
 "nbformat_minor": 5
}
