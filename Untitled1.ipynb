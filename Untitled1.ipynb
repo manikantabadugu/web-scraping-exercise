{
 "cells": [
  {
   "cell_type": "code",
   "execution_count": 7,
   "id": "3729db43",
   "metadata": {},
   "outputs": [
    {
     "name": "stdout",
     "output_type": "stream",
     "text": [
      "<Response [200]>\n",
      "\n",
      "\n",
      "\n",
      "NA\n",
      "51°F\n",
      "11°C\n",
      "\n",
      "\n",
      "\n",
      "\n",
      "Humidity\n",
      "97%\n",
      "\n",
      "\n",
      "Wind Speed\n",
      "NA NA MPH\n",
      "\n",
      "\n",
      "Barometer\n",
      "NA\n",
      "\n",
      "\n",
      "Dewpoint\n",
      "51°F (11°C)\n",
      "\n",
      "\n",
      "Visibility\n",
      "NA\n",
      "\n",
      "\n",
      "Last update\n",
      "\n",
      "                03 Jun 05:43 AM PDT            \n",
      "\n",
      "\n",
      "\n",
      "\n",
      "\n",
      "\n",
      "More Information:Local Forecast OfficeMore Local Wx3 Day HistoryMobile WeatherHourly Weather Forecast \n",
      "\n",
      "\n",
      "\n",
      "\n"
     ]
    }
   ],
   "source": [
    "import requests\n",
    "import json\n",
    "from bs4 import BeautifulSoup\n",
    "page= requests.get(\"https://forecast.weather.gov/MapClick.php?lat=37.777120000000025&lon=-122.41963999999996#.YLd5J6gzY2w\")\n",
    "print(page)\n",
    "soup=BeautifulSoup(page.content,\"html.parser\")\n",
    "soup.prettify\n",
    "table=soup.find(\"div\",{\"class\":\"panel-body\"}).text\n",
    "print(table)\n"
   ]
  },
  {
   "cell_type": "code",
   "execution_count": null,
   "id": "9487617b",
   "metadata": {},
   "outputs": [],
   "source": []
  }
 ],
 "metadata": {
  "kernelspec": {
   "display_name": "Python 3",
   "language": "python",
   "name": "python3"
  },
  "language_info": {
   "codemirror_mode": {
    "name": "ipython",
    "version": 3
   },
   "file_extension": ".py",
   "mimetype": "text/x-python",
   "name": "python",
   "nbconvert_exporter": "python",
   "pygments_lexer": "ipython3",
   "version": "3.8.8"
  }
 },
 "nbformat": 4,
 "nbformat_minor": 5
}
