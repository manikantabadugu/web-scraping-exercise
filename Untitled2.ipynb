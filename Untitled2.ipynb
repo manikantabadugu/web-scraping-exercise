{
 "cells": [
  {
   "cell_type": "code",
   "execution_count": 23,
   "id": "15b5bbc7",
   "metadata": {},
   "outputs": [
    {
     "ename": "SyntaxError",
     "evalue": "unexpected EOF while parsing (<ipython-input-23-81bfa616ce98>, line 25)",
     "output_type": "error",
     "traceback": [
      "\u001b[1;36m  File \u001b[1;32m\"<ipython-input-23-81bfa616ce98>\"\u001b[1;36m, line \u001b[1;32m25\u001b[0m\n\u001b[1;33m    \u001b[0m\n\u001b[1;37m    ^\u001b[0m\n\u001b[1;31mSyntaxError\u001b[0m\u001b[1;31m:\u001b[0m unexpected EOF while parsing\n"
     ]
    }
   ],
   "source": [
    "import pandas \n",
    "import requests\n",
    "from bs4 import BeautifulSoup\n",
    "page=requests.get(\"https://weather.com/en-IN/weather/tenday/l/INKA0344:1:IN\")\n",
    "content=page.content\n",
    "soup=BeautifulSoup(content,\"html.parser\")\n",
    "\n",
    "table=soup.find_all(\"table\",{\"class\":\"twc-table\"})\n",
    "l=[]\n",
    "\n",
    "\n",
    "for items in table:\n",
    "    for i in range(len(items.find_all(\"tr\"))-1):\n",
    "        d = {}\n",
    "        try:\n",
    "            d[\"day\"]=items.find_all(\"span\",{\"class\":\"date-time\"})[i].text\n",
    "            d[\"date\"]=items.find_all(\"span\",{\"class\":\"day-detail\"})[i].text\n",
    "            d[\"desc\"]=items.find_all(\"td\",{\"class\":\"description\"})[i].text\n",
    "            d[\"temp\"]=items.find_all(\"td\",{\"class\":\"temp\"})[i].text\n",
    "            d[\"precip\"]=items.find_all(\"td\",{\"class\":\"precip\"})[i].text\n",
    "            d[\"wind\"]=items.find_all(\"td\",{\"class\":\"wind\"})[i].text\n",
    "            \n",
    "        \n",
    "            l.append(d)\n",
    "            \n"
   ]
  },
  {
   "cell_type": "code",
   "execution_count": null,
   "id": "89b1bbde",
   "metadata": {},
   "outputs": [],
   "source": [
    "for items in table:\n",
    "    for i in range(len(items.find_all(\"tr\"))-1):\n",
    "        d = {}\n",
    "        try:\n",
    "            d[\"day\"]=items.find_all(\"span\",{\"class\":\"date-time\"})[i].text\n",
    "            d[\"date\"]=items.find_all(\"span\",{\"class\":\"day-detail\"})[i].text\n",
    "            d[\"desc\"]=items.find_all(\"td\",{\"class\":\"description\"})[i].text\n",
    "            d[\"temp\"]=items.find_all(\"td\",{\"class\":\"temp\"})[i].text\n",
    "            d[\"precip\"]=items.find_all(\"td\",{\"class\":\"precip\"})[i].text\n",
    "            d[\"wind\"]=items.find_all(\"td\",{\"class\":\"wind\"})[i].text\n",
    "            d[\"humidity\"]=items.find_all(\"td\",{\"class\":\"humidity\"})[i].text\n",
    "        \n",
    "            l.append(d)\n",
    "            \n",
    "import pandas as pd\n",
    "df = pd.DataFrame(l)\n",
    "print(df)\n",
    "df.to_csv(\"output.csv\")\n",
    "all=soup.find(\"div\",{\"class\":\"locations-title ten-day-page-title\"}).find(\"h1\").text"
   ]
  }
 ],
 "metadata": {
  "kernelspec": {
   "display_name": "Python 3",
   "language": "python",
   "name": "python3"
  },
  "language_info": {
   "codemirror_mode": {
    "name": "ipython",
    "version": 3
   },
   "file_extension": ".py",
   "mimetype": "text/x-python",
   "name": "python",
   "nbconvert_exporter": "python",
   "pygments_lexer": "ipython3",
   "version": "3.8.8"
  }
 },
 "nbformat": 4,
 "nbformat_minor": 5
}
